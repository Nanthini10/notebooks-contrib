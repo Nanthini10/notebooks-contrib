{
 "cells": [
  {
   "cell_type": "markdown",
   "metadata": {},
   "source": [
    "# Predicting Load demand using Weather \n",
    "\n",
    "We wish to see the correlation between weather and electricity load demand in the NY state. The weather and load data were obtained from ~link~ ~link~\n",
    "\n",
    "This data was processed and the combined to get a consolidated data source which we will use in this notebook to predict the load demand using Random Forest."
   ]
  },
  {
   "cell_type": "code",
   "execution_count": 1,
   "metadata": {},
   "outputs": [],
   "source": [
    "import warnings\n",
    "warnings.filterwarnings(\"ignore\")"
   ]
  },
  {
   "cell_type": "code",
   "execution_count": 2,
   "metadata": {},
   "outputs": [],
   "source": [
    "import xgboost \n",
    "import dask_cudf\n",
    "from dask import delayed\n",
    "import dask_xgboost\n",
    "from dask.distributed import Client, wait\n",
    "from dask.dataframe import from_delayed\n",
    "import cudf\n",
    "import dask\n",
    "from dask_cuda import LocalCUDACluster\n",
    "import numpy as np\n",
    "import pandas as pd\n",
    "\n",
    "\n",
    "cluster = LocalCUDACluster()\n",
    "client = Client(cluster)"
   ]
  },
  {
   "cell_type": "markdown",
   "metadata": {},
   "source": [
    "# Reading Data\n",
    "\n",
    "Let's read in the data and take a look at the available fields"
   ]
  },
  {
   "cell_type": "code",
   "execution_count": 3,
   "metadata": {},
   "outputs": [
    {
     "data": {
      "text/html": [
       "<div>\n",
       "<style scoped>\n",
       "    .dataframe tbody tr th:only-of-type {\n",
       "        vertical-align: middle;\n",
       "    }\n",
       "\n",
       "    .dataframe tbody tr th {\n",
       "        vertical-align: top;\n",
       "    }\n",
       "\n",
       "    .dataframe thead th {\n",
       "        text-align: right;\n",
       "    }\n",
       "</style>\n",
       "<table border=\"1\" class=\"dataframe\">\n",
       "  <thead>\n",
       "    <tr style=\"text-align: right;\">\n",
       "      <th></th>\n",
       "      <th>Unnamed: 0</th>\n",
       "      <th>county</th>\n",
       "      <th>day</th>\n",
       "      <th>month</th>\n",
       "      <th>hour</th>\n",
       "      <th>year</th>\n",
       "      <th>Load_x</th>\n",
       "      <th>air_tmp_x</th>\n",
       "      <th>dew_x</th>\n",
       "      <th>sea_pressure_x</th>\n",
       "      <th>...</th>\n",
       "      <th>wind_spd_tmp</th>\n",
       "      <th>season</th>\n",
       "      <th>Weekday</th>\n",
       "      <th>Load_x_t-1</th>\n",
       "      <th>air_tmpt-1</th>\n",
       "      <th>wind_spd_t-1</th>\n",
       "      <th>Load_x_5</th>\n",
       "      <th>air_tmp_x_5</th>\n",
       "      <th>sea_pressure_x_5</th>\n",
       "      <th>wind_spd_x_5</th>\n",
       "    </tr>\n",
       "  </thead>\n",
       "  <tbody>\n",
       "    <tr>\n",
       "      <th>0</th>\n",
       "      <td>2595</td>\n",
       "      <td>0.0</td>\n",
       "      <td>20.0</td>\n",
       "      <td>9.0</td>\n",
       "      <td>12.0</td>\n",
       "      <td>2019.0</td>\n",
       "      <td>4009.800049</td>\n",
       "      <td>233.0</td>\n",
       "      <td>-14.0</td>\n",
       "      <td>10137.0</td>\n",
       "      <td>...</td>\n",
       "      <td>0.064377682</td>\n",
       "      <td>2.0</td>\n",
       "      <td>1.0</td>\n",
       "      <td>-1.000000</td>\n",
       "      <td>-1.0</td>\n",
       "      <td>-1.0</td>\n",
       "      <td>0.000000</td>\n",
       "      <td>0.0</td>\n",
       "      <td>0.0</td>\n",
       "      <td>0.0</td>\n",
       "    </tr>\n",
       "    <tr>\n",
       "      <th>1</th>\n",
       "      <td>2594</td>\n",
       "      <td>0.0</td>\n",
       "      <td>20.0</td>\n",
       "      <td>9.0</td>\n",
       "      <td>11.0</td>\n",
       "      <td>2019.0</td>\n",
       "      <td>9195.900391</td>\n",
       "      <td>217.0</td>\n",
       "      <td>-13.0</td>\n",
       "      <td>10140.0</td>\n",
       "      <td>...</td>\n",
       "      <td>0.096774194</td>\n",
       "      <td>2.0</td>\n",
       "      <td>1.0</td>\n",
       "      <td>4009.800049</td>\n",
       "      <td>233.0</td>\n",
       "      <td>15.0</td>\n",
       "      <td>0.000000</td>\n",
       "      <td>0.0</td>\n",
       "      <td>0.0</td>\n",
       "      <td>0.0</td>\n",
       "    </tr>\n",
       "    <tr>\n",
       "      <th>2</th>\n",
       "      <td>2593</td>\n",
       "      <td>0.0</td>\n",
       "      <td>20.0</td>\n",
       "      <td>9.0</td>\n",
       "      <td>10.0</td>\n",
       "      <td>2019.0</td>\n",
       "      <td>9097.000000</td>\n",
       "      <td>217.0</td>\n",
       "      <td>-13.0</td>\n",
       "      <td>10139.0</td>\n",
       "      <td>...</td>\n",
       "      <td>0.069124424</td>\n",
       "      <td>2.0</td>\n",
       "      <td>1.0</td>\n",
       "      <td>9195.900391</td>\n",
       "      <td>217.0</td>\n",
       "      <td>21.0</td>\n",
       "      <td>0.000000</td>\n",
       "      <td>0.0</td>\n",
       "      <td>0.0</td>\n",
       "      <td>0.0</td>\n",
       "    </tr>\n",
       "    <tr>\n",
       "      <th>3</th>\n",
       "      <td>2592</td>\n",
       "      <td>0.0</td>\n",
       "      <td>20.0</td>\n",
       "      <td>9.0</td>\n",
       "      <td>9.0</td>\n",
       "      <td>2019.0</td>\n",
       "      <td>7576.100098</td>\n",
       "      <td>67.0</td>\n",
       "      <td>-999.0</td>\n",
       "      <td>10178.0</td>\n",
       "      <td>...</td>\n",
       "      <td>0.611940299</td>\n",
       "      <td>2.0</td>\n",
       "      <td>1.0</td>\n",
       "      <td>9097.000000</td>\n",
       "      <td>217.0</td>\n",
       "      <td>15.0</td>\n",
       "      <td>0.000000</td>\n",
       "      <td>0.0</td>\n",
       "      <td>0.0</td>\n",
       "      <td>0.0</td>\n",
       "    </tr>\n",
       "    <tr>\n",
       "      <th>4</th>\n",
       "      <td>2591</td>\n",
       "      <td>0.0</td>\n",
       "      <td>20.0</td>\n",
       "      <td>9.0</td>\n",
       "      <td>8.0</td>\n",
       "      <td>2019.0</td>\n",
       "      <td>7330.799805</td>\n",
       "      <td>67.0</td>\n",
       "      <td>-999.0</td>\n",
       "      <td>10178.0</td>\n",
       "      <td>...</td>\n",
       "      <td>0.537313433</td>\n",
       "      <td>2.0</td>\n",
       "      <td>1.0</td>\n",
       "      <td>7576.100098</td>\n",
       "      <td>67.0</td>\n",
       "      <td>41.0</td>\n",
       "      <td>7441.920069</td>\n",
       "      <td>160.2</td>\n",
       "      <td>10154.4</td>\n",
       "      <td>25.6</td>\n",
       "    </tr>\n",
       "  </tbody>\n",
       "</table>\n",
       "<p>5 rows × 26 columns</p>\n",
       "</div>"
      ],
      "text/plain": [
       "   Unnamed: 0  county   day  month  hour    year       Load_x  air_tmp_x  \\\n",
       "0        2595     0.0  20.0    9.0  12.0  2019.0  4009.800049      233.0   \n",
       "1        2594     0.0  20.0    9.0  11.0  2019.0  9195.900391      217.0   \n",
       "2        2593     0.0  20.0    9.0  10.0  2019.0  9097.000000      217.0   \n",
       "3        2592     0.0  20.0    9.0   9.0  2019.0  7576.100098       67.0   \n",
       "4        2591     0.0  20.0    9.0   8.0  2019.0  7330.799805       67.0   \n",
       "\n",
       "   dew_x  sea_pressure_x  ...  wind_spd_tmp  season  Weekday   Load_x_t-1  \\\n",
       "0  -14.0         10137.0  ...   0.064377682     2.0      1.0    -1.000000   \n",
       "1  -13.0         10140.0  ...   0.096774194     2.0      1.0  4009.800049   \n",
       "2  -13.0         10139.0  ...   0.069124424     2.0      1.0  9195.900391   \n",
       "3 -999.0         10178.0  ...   0.611940299     2.0      1.0  9097.000000   \n",
       "4 -999.0         10178.0  ...   0.537313433     2.0      1.0  7576.100098   \n",
       "\n",
       "   air_tmpt-1 wind_spd_t-1     Load_x_5  air_tmp_x_5  sea_pressure_x_5  \\\n",
       "0        -1.0         -1.0     0.000000          0.0               0.0   \n",
       "1       233.0         15.0     0.000000          0.0               0.0   \n",
       "2       217.0         21.0     0.000000          0.0               0.0   \n",
       "3       217.0         15.0     0.000000          0.0               0.0   \n",
       "4        67.0         41.0  7441.920069        160.2           10154.4   \n",
       "\n",
       "   wind_spd_x_5  \n",
       "0           0.0  \n",
       "1           0.0  \n",
       "2           0.0  \n",
       "3           0.0  \n",
       "4          25.6  \n",
       "\n",
       "[5 rows x 26 columns]"
      ]
     },
     "execution_count": 3,
     "metadata": {},
     "output_type": "execute_result"
    }
   ],
   "source": [
    "merged_ddf = dask_cudf.read_csv(\"processed_data.csv\")\n",
    "merged_ddf.head().to_pandas()"
   ]
  },
  {
   "cell_type": "markdown",
   "metadata": {},
   "source": [
    "## Brief about some fields\n",
    "\n",
    "The county field is a categorical variable that represents the county in NY state that the entry belongs to. \n",
    "\n",
    "`day`, `month`, `year`, `hour` represent the `TimeStamp`(This column was split to obtain the other fields) the record was taken.\n",
    "\n",
    "`Load_x` is the actual value for Load consumed at the time. Similarly `air_tmp_x`, `dew_x` ... are the values recorded at the given time.\n",
    "\n",
    "`Load_x_t-1` is the load recorded at `t-1` time. It was calculated per county to maintain correctness. (Same is the case for all columns ended with `t-1` \n",
    "\n",
    "`Load_x_5` is the summary of theprevious 5 entries (calculated using `rolling`) \n",
    "\n",
    "### Uninterested columns\n",
    "\n",
    "We will exclude `Unnamed: 0`, `precip_6_x` (because most of the values are null) and `TimeStamp` because we already have the fields representing this value making this redundant."
   ]
  },
  {
   "cell_type": "code",
   "execution_count": 4,
   "metadata": {},
   "outputs": [],
   "source": [
    "from dask_ml.model_selection import train_test_split\n",
    "\n",
    "def split_data(merged_ddf):\n",
    "    X_train = merged_ddf[input_cols].loc[:int(0.8*len(merged_ddf))]\n",
    "    y_train = merged_ddf['Load_x'].loc[:int(0.8*len(merged_ddf))]\n",
    "    \n",
    "    X_test = merged_ddf[input_cols].loc[int(0.8*len(merged_ddf)):]\n",
    "    y_test= merged_ddf['Load_x'].loc[int(0.8*len(merged_ddf)):]\n",
    "    \n",
    "    print(\"Train len \", len(X_train))\n",
    "    print(\"Test len \", len(X_test))\n",
    "    \n",
    "    train_dmat = xgboost.DMatrix(X_train.compute(), y_train.compute())\n",
    "    test_dmat = xgboost.DMatrix(X_test.compute(), y_test.compute())\n",
    "    return train_dmat, test_dmat, X_train, X_test, y_train, y_test"
   ]
  },
  {
   "cell_type": "code",
   "execution_count": 5,
   "metadata": {},
   "outputs": [
    {
     "name": "stdout",
     "output_type": "stream",
     "text": [
      "Train len  41222\n",
      "Test len  10306\n"
     ]
    }
   ],
   "source": [
    "input_cols = [c for c in merged_ddf.columns if c not in['precip_6_x', 'TimeStamp', 'Load_x', 'Unnamed: 0']]\n",
    "\n",
    "for col in input_cols:\n",
    "    merged_ddf[col] = merged_ddf[col].astype('float32')\n",
    "\n",
    "train_dmat, test_dmat, X_train, X_test, y_train, y_test = split_data(merged_ddf)"
   ]
  },
  {
   "cell_type": "markdown",
   "metadata": {},
   "source": [
    "# Random Forest\n",
    "\n",
    "In order to implement RF using xgboost, the following need to be set :\n",
    "\n",
    "`booster` should be set to `gbtree`, as we are training forests. Note that as this is the default, this parameter needn’t be set explicitly.\n",
    "\n",
    "`subsample` must be set to a value less than 1 to enable random selection of training cases (rows).\n",
    "\n",
    "One of `colsample_by*` parameters must be set to a value less than 1 to enable random selection of columns. Normally, colsample_bynode would be set to a value less than 1 to randomly sample columns at each tree split.\n",
    "\n",
    "`num_parallel_tree` should be set to the size of the forest being trained.\n",
    "\n",
    "`num_boost_round` should be set to 1 to prevent XGBoost from boosting multiple random forests. Note that this is a keyword argument to train(), and is not part of the parameter dictionary.\n",
    "\n",
    "eta (alias: `learning_rate`) must be set to 1 when training random forest regression.\n",
    "\n",
    "random_state can be used to seed the random number generator."
   ]
  },
  {
   "cell_type": "code",
   "execution_count": 6,
   "metadata": {},
   "outputs": [],
   "source": [
    "rf_gpu_parameters = {'colsample_bynode': 0.9,\n",
    " 'learning_rate': 1,\n",
    " 'max_depth': 7,\n",
    " 'num_parallel_tree': 100,\n",
    " 'objective': 'reg:squarederror',\n",
    " 'subsample': 0.6,\n",
    " 'tree_method': 'gpu_hist',\n",
    " 'min_child_weight': 6,\n",
    " 'gamma': 0.1,\n",
    " 'alpha': 1.0,\n",
    " 'reg_lambda': 1.0,\n",
    "}\n"
   ]
  },
  {
   "cell_type": "code",
   "execution_count": 7,
   "metadata": {},
   "outputs": [
    {
     "name": "stdout",
     "output_type": "stream",
     "text": [
      "[0]\tTest-rmse:1394.13599\tTrain-rmse:2864.63769\n",
      "Multiple eval metrics have been passed: 'Train-rmse' will be used for early stopping.\n",
      "\n",
      "Will train until Train-rmse hasn't improved in 10 rounds.\n"
     ]
    }
   ],
   "source": [
    "rf_model = xgboost.train(\n",
    "    rf_gpu_parameters,\n",
    "    train_dmat,\n",
    "    num_boost_round=1,\n",
    "    evals=[(test_dmat, \"Test\"), (train_dmat, \"Train\")],\n",
    "    early_stopping_rounds=10,\n",
    "    verbose_eval=10\n",
    ")"
   ]
  },
  {
   "cell_type": "markdown",
   "metadata": {},
   "source": [
    "## Tuning Max Depth and Min Child Weight"
   ]
  },
  {
   "cell_type": "code",
   "execution_count": 8,
   "metadata": {},
   "outputs": [],
   "source": [
    "def grid_search_depth_wt(gridsearch_params, train_dmat, xgb_gpu_params):\n",
    "\n",
    "    min_rmse = float(\"Inf\")\n",
    "    best_params = None\n",
    "    for i, (max_depth, min_child_weight) in enumerate(gridsearch_params):\n",
    "        print(\"CV with max_depth={}, min_child_weight={}\".format(\n",
    "                                 max_depth,\n",
    "                                 min_child_weight))\n",
    "        # Update our parameters\n",
    "        rf_gpu_parameters['max_depth'] = max_depth\n",
    "        rf_gpu_parameters['min_child_weight'] = min_child_weight\n",
    "\n",
    "        # Run CV\n",
    "        cv_results = xgboost.cv(\n",
    "            rf_gpu_parameters,\n",
    "            train_dmat,\n",
    "            num_boost_round=1,\n",
    "            seed=42,\n",
    "            nfold=3,\n",
    "            metrics={'rmse'},\n",
    "            early_stopping_rounds=10\n",
    "        )\n",
    "        # Update best MAE\n",
    "        mean_rmse = cv_results['test-rmse-mean'].min()\n",
    "        boost_rounds = cv_results['test-rmse-mean'].argmin()\n",
    "\n",
    "        print(\"\\tRMSE {} for {} rounds\".format(mean_rmse, boost_rounds))\n",
    "        if mean_rmse < min_rmse:\n",
    "            min_rmse = mean_rmse\n",
    "            best_params = (max_depth,min_child_weight)\n",
    "    print(\"Best params: {}, {}, RMSE: {}\".format(best_params[0], best_params[1],  min_rmse))\n",
    "    return best_params"
   ]
  },
  {
   "cell_type": "code",
   "execution_count": 9,
   "metadata": {},
   "outputs": [
    {
     "name": "stdout",
     "output_type": "stream",
     "text": [
      "CV with max_depth=5, min_child_weight=4\n",
      "\tRMSE 3059.5302733333338 for 0 rounds\n",
      "CV with max_depth=5, min_child_weight=5\n",
      "\tRMSE 3059.7128903333337 for 0 rounds\n",
      "CV with max_depth=5, min_child_weight=6\n",
      "\tRMSE 3060.157063666667 for 0 rounds\n",
      "CV with max_depth=6, min_child_weight=4\n",
      "\tRMSE 3009.5072426666666 for 0 rounds\n",
      "CV with max_depth=6, min_child_weight=5\n",
      "\tRMSE 3008.836914333333 for 0 rounds\n",
      "CV with max_depth=6, min_child_weight=6\n",
      "\tRMSE 3008.546387 for 0 rounds\n",
      "CV with max_depth=7, min_child_weight=4\n",
      "\tRMSE 2988.053711 for 0 rounds\n",
      "CV with max_depth=7, min_child_weight=5\n",
      "\tRMSE 2997.6018063333336 for 0 rounds\n",
      "CV with max_depth=7, min_child_weight=6\n",
      "\tRMSE 2989.198079666666 for 0 rounds\n",
      "Best params: 7, 4, RMSE: 2988.053711\n"
     ]
    }
   ],
   "source": [
    "gridsearch_params = [(depth, child_wt) \n",
    "                     for depth in range(5,8) \n",
    "                     for child_wt in range(4,7)\n",
    "                    ]\n",
    "\n",
    "best_params = grid_search_depth_wt(gridsearch_params, train_dmat, rf_gpu_parameters)"
   ]
  },
  {
   "cell_type": "code",
   "execution_count": 10,
   "metadata": {},
   "outputs": [],
   "source": [
    "rf_gpu_parameters['max_depth'], rf_gpu_parameters['min_child_weight']= best_params[0], best_params[1]"
   ]
  },
  {
   "cell_type": "code",
   "execution_count": 11,
   "metadata": {},
   "outputs": [
    {
     "name": "stdout",
     "output_type": "stream",
     "text": [
      "CV with alpha=2.0, lambda=0.5\n",
      "\tRMSE 2818.268229 for 0 rounds\n",
      "CV with alpha=2.0, lambda=1.5\n",
      "\tRMSE 3106.5253909999997 for 0 rounds\n",
      "CV with alpha=2.0, lambda=2.5\n",
      "\tRMSE 3247.151937 for 0 rounds\n",
      "CV with alpha=5.0, lambda=0.5\n",
      "\tRMSE 2818.1606446666665 for 0 rounds\n",
      "CV with alpha=5.0, lambda=1.5\n",
      "\tRMSE 3106.5264483333335 for 0 rounds\n",
      "CV with alpha=5.0, lambda=2.5\n",
      "\tRMSE 3247.1400553333333 for 0 rounds\n",
      "CV with alpha=10.0, lambda=0.5\n",
      "\tRMSE 2818.1315916666667 for 0 rounds\n",
      "CV with alpha=10.0, lambda=1.5\n",
      "\tRMSE 3106.5394693333333 for 0 rounds\n",
      "CV with alpha=10.0, lambda=2.5\n",
      "\tRMSE 3247.2327473333335 for 0 rounds\n",
      "Best params: 10.0, 0.5 RMSE: 2818.1315916666667\n"
     ]
    }
   ],
   "source": [
    "min_rmse = float(\"Inf\")\n",
    "best_params = None\n",
    "alpha_lambda = [(alpha, lam) \n",
    "               for alpha in [ 2.0, 5.0, 10.]\n",
    "               for lam in [0.5, 1.5, 2.5]]\n",
    "for alpha, lam in alpha_lambda:\n",
    "    print(\"CV with alpha={}, lambda={}\".format(alpha,lam))\n",
    "    # Update our parameters\n",
    "    rf_gpu_parameters['alpha'] = alpha\n",
    "    rf_gpu_parameters['reg_lambda'] =lam\n",
    "    # Run CV\n",
    "    cv_results = xgboost.cv(\n",
    "        rf_gpu_parameters,\n",
    "        train_dmat,\n",
    "        num_boost_round=1,\n",
    "        seed=42,\n",
    "        nfold=3,\n",
    "        metrics={'rmse'},\n",
    "        early_stopping_rounds=10\n",
    "    )\n",
    "    # Update best MAE\n",
    "    mean_rmse = cv_results['test-rmse-mean'].min()\n",
    "    boost_rounds = cv_results['test-rmse-mean'].argmin()\n",
    "\n",
    "    \n",
    "    print(\"\\tRMSE {} for {} rounds\".format(mean_rmse, boost_rounds))\n",
    "    if mean_rmse < min_rmse:\n",
    "        min_rmse = mean_rmse\n",
    "        best_params = (alpha,lam)\n",
    "print(\"Best params: {}, {} RMSE: {}\".format(best_params[0], best_params[1] , min_rmse))"
   ]
  },
  {
   "cell_type": "code",
   "execution_count": 12,
   "metadata": {},
   "outputs": [],
   "source": [
    "rf_gpu_parameters['alpha'], rf_gpu_parameters['reg_lambda'] = best_params[0], best_params[1]"
   ]
  },
  {
   "cell_type": "code",
   "execution_count": 13,
   "metadata": {},
   "outputs": [
    {
     "name": "stdout",
     "output_type": "stream",
     "text": [
      "[0]\tTest-rmse:1366.50000\tTrain-rmse:2671.21069\n",
      "Multiple eval metrics have been passed: 'Train-rmse' will be used for early stopping.\n",
      "\n",
      "Will train until Train-rmse hasn't improved in 10 rounds.\n"
     ]
    }
   ],
   "source": [
    "model = xgboost.train(\n",
    "    rf_gpu_parameters                                                         ,\n",
    "    train_dmat,\n",
    "    num_boost_round=1,\n",
    "    evals=[(test_dmat, \"Test\"), (train_dmat, \"Train\")],\n",
    "    verbose_eval= 10,\n",
    "    early_stopping_rounds=10\n",
    ")"
   ]
  },
  {
   "cell_type": "code",
   "execution_count": 14,
   "metadata": {},
   "outputs": [
    {
     "data": {
      "text/plain": [
       "{'colsample_bynode': 0.9,\n",
       " 'learning_rate': 1,\n",
       " 'max_depth': 7,\n",
       " 'num_parallel_tree': 1000,\n",
       " 'objective': 'reg:squarederror',\n",
       " 'subsample': 0.6,\n",
       " 'tree_method': 'gpu_hist',\n",
       " 'min_child_weight': 4,\n",
       " 'gamma': 0.1,\n",
       " 'alpha': 10.0,\n",
       " 'reg_lambda': 0.5}"
      ]
     },
     "execution_count": 14,
     "metadata": {},
     "output_type": "execute_result"
    }
   ],
   "source": [
    "rf_gpu_parameters['num_parallel_tree'] = 1000\n",
    "rf_gpu_parameters"
   ]
  },
  {
   "cell_type": "code",
   "execution_count": 15,
   "metadata": {},
   "outputs": [
    {
     "name": "stdout",
     "output_type": "stream",
     "text": [
      "[0]\tTest-rmse:1364.63977\tTrain-rmse:2665.48877\n",
      "Multiple eval metrics have been passed: 'Train-rmse' will be used for early stopping.\n",
      "\n",
      "Will train until Train-rmse hasn't improved in 10 rounds.\n"
     ]
    }
   ],
   "source": [
    "model = xgboost.train(\n",
    "    rf_gpu_parameters                                                         ,\n",
    "    train_dmat,\n",
    "    num_boost_round=1,\n",
    "    evals=[(test_dmat, \"Test\"), (train_dmat, \"Train\")],\n",
    "    verbose_eval= 10,\n",
    "    early_stopping_rounds=10\n",
    ")"
   ]
  },
  {
   "cell_type": "code",
   "execution_count": null,
   "metadata": {},
   "outputs": [],
   "source": []
  }
 ],
 "metadata": {
  "kernelspec": {
   "display_name": "Python 3",
   "language": "python",
   "name": "python3"
  },
  "language_info": {
   "codemirror_mode": {
    "name": "ipython",
    "version": 3
   },
   "file_extension": ".py",
   "mimetype": "text/x-python",
   "name": "python",
   "nbconvert_exporter": "python",
   "pygments_lexer": "ipython3",
   "version": "3.6.7"
  }
 },
 "nbformat": 4,
 "nbformat_minor": 4
}
